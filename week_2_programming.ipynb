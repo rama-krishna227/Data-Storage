{
  "nbformat": 4,
  "nbformat_minor": 0,
  "metadata": {
    "colab": {
      "name": "week 2 programming.ipynb",
      "provenance": [],
      "authorship_tag": "ABX9TyM47svB+67lGi9dne8LTn5b",
      "include_colab_link": true
    },
    "kernelspec": {
      "name": "python3",
      "display_name": "Python 3"
    }
  },
  "cells": [
    {
      "cell_type": "markdown",
      "metadata": {
        "id": "view-in-github",
        "colab_type": "text"
      },
      "source": [
        "<a href=\"https://colab.research.google.com/github/rama-krishna227/Data-Storage/blob/main/week_2_programming.ipynb\" target=\"_parent\"><img src=\"https://colab.research.google.com/assets/colab-badge.svg\" alt=\"Open In Colab\"/></a>"
      ]
    },
    {
      "cell_type": "markdown",
      "metadata": {
        "id": "KrzHJ29fSGmE"
      },
      "source": [
        "## LISTS\n",
        "\n"
      ]
    },
    {
      "cell_type": "code",
      "metadata": {
        "id": "-GmNWrqQSOaN",
        "outputId": "130284aa-5b23-4e89-cad8-461d321f733e",
        "colab": {
          "base_uri": "https://localhost:8080/"
        }
      },
      "source": [
        "phone_no={\"RK\":899626809,\"Gopi\":899345334,\"Karthik\":899565454,\"Rahul\":899456343,\"Suresh\":899564324}\n",
        "query=\"Rahul\"\n",
        "number=phone_no[query]\n",
        "print(\"Hello for your search query {} the number is {}\".format(query,number))"
      ],
      "execution_count": 5,
      "outputs": [
        {
          "output_type": "stream",
          "text": [
            "Hello for your search query Rahul the number is 899456343\n"
          ],
          "name": "stdout"
        }
      ]
    }
  ]
}